{
 "cells": [
  {
   "cell_type": "markdown",
   "metadata": {},
   "source": [
    "# Q1"
   ]
  },
  {
   "cell_type": "code",
   "execution_count": 6,
   "metadata": {},
   "outputs": [
    {
     "name": "stdout",
     "output_type": "stream",
     "text": [
      "Enter Radius of Circle: 3\n",
      "Area of Circle is:  28.26\n"
     ]
    }
   ],
   "source": [
    "# %load areaofcircle.py\n",
    "#Program compute the area of circle\n",
    "\n",
    "r = float(input(\"Enter Radius of Circle: \"))\n",
    "\n",
    "PI = 3.14\n",
    "\n",
    "print(\"Area of Circle is: \" , PI*r**2)\n"
   ]
  },
  {
   "cell_type": "markdown",
   "metadata": {},
   "source": [
    "# Q2"
   ]
  },
  {
   "cell_type": "code",
   "execution_count": 7,
   "metadata": {},
   "outputs": [
    {
     "name": "stdout",
     "output_type": "stream",
     "text": [
      "Enter Number: -5\n",
      "Negative Number Entered\n"
     ]
    }
   ],
   "source": [
    "# %load posandneg.py\n",
    "#program to identify number is positive or negative\n",
    "\n",
    "num = int(input(\"Enter Number: \"))\n",
    "\n",
    "if(num > 0):\n",
    " {\n",
    "    print(\"Positive Number Entered\")\n",
    " }\n",
    "\n",
    "elif(num == 0):\n",
    " {\n",
    "    print(\"Zero Number Entered.\")\n",
    " }\n",
    "\n",
    "else:\n",
    " {\n",
    "    print(\"Negative Number Entered\")\n",
    " }\n"
   ]
  },
  {
   "cell_type": "markdown",
   "metadata": {},
   "source": [
    "# Q3"
   ]
  },
  {
   "cell_type": "code",
   "execution_count": 8,
   "metadata": {},
   "outputs": [
    {
     "name": "stdout",
     "output_type": "stream",
     "text": [
      "Enter Numerator: 6\n",
      "Enter Denominator: 3\n",
      "Number 6 is completely divisible by 3\n"
     ]
    }
   ],
   "source": [
    "# %load divisible.py\n",
    "#number is completely divisible by another number\n",
    "\n",
    "num = int(input(\"Enter Numerator: \"))\n",
    "deno = int(input(\"Enter Denominator: \"))\n",
    "\n",
    "if( num%deno == 0):\n",
    "    {\n",
    "        print(\"Number\", num , \"is completely divisible by\", deno)\n",
    "    }\n",
    "else:\n",
    "    {\n",
    "         print(\"Number\", num , \"is not completely divisible by\", deno)\n",
    "    }\n"
   ]
  },
  {
   "cell_type": "markdown",
   "metadata": {},
   "source": [
    "# Q4"
   ]
  },
  {
   "cell_type": "code",
   "execution_count": 9,
   "metadata": {},
   "outputs": [
    {
     "name": "stdout",
     "output_type": "stream",
     "text": [
      "Enter a date in (dd/mm/yy) format: 11/09/2018\n",
      "Enter a date in (dd/mm/yy) format: 28/09/2018\n",
      "There are 17 in between 11/09/2018 and 28/09/2018\n"
     ]
    }
   ],
   "source": [
    "# %load days.py\n",
    "#program to calculate days between two days\n",
    "\n",
    "firstdate = input(\"Enter a date in (dd/mm/yy) format: \")\n",
    "d,m,y = firstdate.split('/')\n",
    "\n",
    "lastdate = input(\"Enter a date in (dd/mm/yy) format: \")\n",
    "d1,m1,y1 = lastdate.split('/')\n",
    "\n",
    "\n",
    "day = int(d1) - int(d)\n",
    "print(\"There are\",day,\"days in between\",firstdate,\"and\",lastdate)\n"
   ]
  },
  {
   "cell_type": "markdown",
   "metadata": {},
   "source": [
    "# Q5"
   ]
  },
  {
   "cell_type": "code",
   "execution_count": 10,
   "metadata": {},
   "outputs": [
    {
     "name": "stdout",
     "output_type": "stream",
     "text": [
      "Enter Radius of Sphere: 2\n",
      "Volume of the Sphere with Radius 2 is 33.409600000000005\n"
     ]
    }
   ],
   "source": [
    "# %load vol of sphere.py\n",
    "#volume of sphere\n",
    "\n",
    "radius = int(input(\"Enter Radius of Sphere: \"))\n",
    "PI =3.14\n",
    "print(\"Volume of the Sphere with Radius\",radius,\"is\", 1.33*PI*radius**3)\n"
   ]
  },
  {
   "cell_type": "markdown",
   "metadata": {},
   "source": [
    "# Q6"
   ]
  },
  {
   "cell_type": "code",
   "execution_count": 11,
   "metadata": {},
   "outputs": [
    {
     "name": "stdout",
     "output_type": "stream",
     "text": [
      "Enter String: hello\n",
      "How many copies of String you need: 6\n",
      "6 copies of hello are  hello hello hello hello hello hello "
     ]
    }
   ],
   "source": [
    "# %load copiesof string.py\n",
    "#program to print copies of string\n",
    "\n",
    "str = input(\"Enter String: \")\n",
    "n = int(input(\"How many copies of String you need: \"))\n",
    "print(n, \"copies of\",str,\"are \",end=\" \")\n",
    "for x in range(1,n+1):\n",
    "    print(str,end=\" \")\n"
   ]
  },
  {
   "cell_type": "markdown",
   "metadata": {},
   "source": [
    "# Q7"
   ]
  },
  {
   "cell_type": "code",
   "execution_count": 15,
   "metadata": {},
   "outputs": [
    {
     "name": "stdout",
     "output_type": "stream",
     "text": [
      "Enter Number: 3\n",
      "3  is ODD!\n"
     ]
    }
   ],
   "source": [
    "# %load Evenodd.py\n",
    "#Program of Even and odd if_else program\n",
    "\n",
    "num = int(input(\"Enter Number: \"))\n",
    "if( num%2==0 ):\n",
    "    print(num,\" is Even !\")\n",
    "else:\n",
    "    print(num,\" is ODD!\")\n"
   ]
  },
  {
   "cell_type": "markdown",
   "metadata": {},
   "source": [
    "# Q8"
   ]
  },
  {
   "cell_type": "code",
   "execution_count": 17,
   "metadata": {},
   "outputs": [
    {
     "name": "stdout",
     "output_type": "stream",
     "text": [
      "Enter Character: i\n",
      "Letter i is Vowel\n"
     ]
    }
   ],
   "source": [
    "# %load vowel.py\n",
    "#program to calculate days\n",
    "\n",
    "#function checking vowel and contain one argument\n",
    "def vowelChecker(ch):\n",
    "    if(ch == 'A' or  ch == 'a' or ch == 'E' or ch == 'e' or ch == 'I' or ch == 'i' or ch == 'O' or ch == 'o' or ch == 'U' or ch == 'u'):\n",
    "        print(\"Letter\", ch , \"is Vowel\")\n",
    "    else:\n",
    "        print(\"Letter\", ch , \"is not Vowel\")\n",
    "\n",
    "#enter a character\n",
    "ch = input(\"Enter Character: \")\n",
    "\n",
    "#function calling\n",
    "vowelChecker(ch)\n"
   ]
  },
  {
   "cell_type": "markdown",
   "metadata": {},
   "source": [
    "# Q9"
   ]
  },
  {
   "cell_type": "code",
   "execution_count": 18,
   "metadata": {},
   "outputs": [
    {
     "name": "stdout",
     "output_type": "stream",
     "text": [
      "Enter Magnitude of Triangle base: 5\n",
      "Enter Magnitude of Triangle Height: 3\n",
      "Area of a Triangle with Height 3.0  and Base  5.0  is  7.5\n"
     ]
    }
   ],
   "source": [
    "# %load triangle.py\n",
    "#program of area of triangle\n",
    "\n",
    "#calculate area of triangle\n",
    "def triangleArea(b, h):\n",
    "    return 0.5*b*h\n",
    "\n",
    "#user enter base and height  \n",
    "base = float(input(\"Enter Magnitude of Triangle base: \"))\n",
    "height = float(input(\"Enter Magnitude of Triangle Height: \"))\n",
    "\n",
    "#print the area of area calling function\n",
    "print(\"Area of a Triangle with Height\", height,\" and Base \",base, \" is \", triangleArea(base, height))\n"
   ]
  },
  {
   "cell_type": "markdown",
   "metadata": {},
   "source": [
    "# Q10"
   ]
  },
  {
   "cell_type": "code",
   "execution_count": 19,
   "metadata": {},
   "outputs": [
    {
     "name": "stdout",
     "output_type": "stream",
     "text": [
      "Please enter principal amount: 10000\n",
      "Please enter Rate of Interest in %: 0.1\n",
      "Enter Nmber of years for investment: 5\n",
      "After 5 years your principal amount 10000 over an interest of 0.1 will be 16105.100000000006\n"
     ]
    }
   ],
   "source": [
    "# %load pamount.py\n",
    "#program to compute principal amount and rate of interest\n",
    "\n",
    "pAmount = int(input(\"Please enter principal amount: \"))\n",
    "roi = float(input(\"Please enter Rate of Interest in %: \"))\n",
    "investYear= int(input(\"Enter Nmber of years for investment: \"))\n",
    "\n",
    "print(\"After\",investYear,\"years your principal amount\",pAmount,\"over an interest of\",roi,\"will be\",pAmount*pow((1+roi),investYear))\n"
   ]
  },
  {
   "cell_type": "markdown",
   "metadata": {},
   "source": [
    "# Q11"
   ]
  },
  {
   "cell_type": "code",
   "execution_count": 20,
   "metadata": {},
   "outputs": [
    {
     "name": "stdout",
     "output_type": "stream",
     "text": [
      "Enter Co-ordinate of x1: 2\n",
      "Enter Co-ordinate of y1: 3\n",
      "Enter Co-ordinate of x2: 5\n",
      "Enter Co-ordinate of y2: 6\n",
      "Distance between points( 2 , 3 ) and ( 5 , 6 ) is 18\n"
     ]
    }
   ],
   "source": [
    "# %load co-ordinate.py\n",
    "#program to measure distance\n",
    "\n",
    "def distance(x1, y1, x2, y2):\n",
    "    return (x2 - x1)**2 + (y2 - y1)**2\n",
    "\n",
    "x1 = int(input(\"Enter Co-ordinate of x1: \"))\n",
    "y1 = int(input(\"Enter Co-ordinate of y1: \"))\n",
    "\n",
    "x2 = int(input(\"Enter Co-ordinate of x2: \"))\n",
    "y2 = int(input(\"Enter Co-ordinate of y2: \"))\n",
    "print(\"Distance between points(\",x1,\",\",y1,\") and (\",x2,\",\",y2,\") is\",distance(x1, y1, x2, y2))\n"
   ]
  },
  {
   "cell_type": "markdown",
   "metadata": {},
   "source": [
    "# Q12"
   ]
  },
  {
   "cell_type": "code",
   "execution_count": 22,
   "metadata": {},
   "outputs": [
    {
     "name": "stdout",
     "output_type": "stream",
     "text": [
      "Enter Height in Feet: 5\n",
      "There are 152.4 Cm in  5 ft\n"
     ]
    }
   ],
   "source": [
    "# %load feet.py\n",
    "#program to convert height in feet to centimeter\n",
    "\n",
    "def feetConverter(feet):\n",
    "   return ( feet * 30.48 )\n",
    "    \n",
    "f = int(input(\"Enter Height in Feet: \"))\n",
    "print(\"There are\", feetConverter(f),\"Cm in \", f,\"ft\")\n"
   ]
  },
  {
   "cell_type": "markdown",
   "metadata": {},
   "source": [
    "# Q13"
   ]
  },
  {
   "cell_type": "code",
   "execution_count": 23,
   "metadata": {},
   "outputs": [
    {
     "name": "stdout",
     "output_type": "stream",
     "text": [
      "Enter Height in Cm: 154\n",
      "Enter weight in kg: 50\n",
      "Your BMI is:  21.082813290605497\n"
     ]
    }
   ],
   "source": [
    "# %load body mass.py\n",
    "#program to calculate a body mass index\n",
    "\n",
    "def calculateBMI(h , w):\n",
    "    return w / (h**2)*10000\n",
    "\n",
    "\n",
    "height = float(input(\"Enter Height in Cm: \"))\n",
    "weight = float(input(\"Enter weight in kg: \"))\n",
    "print(\"Your BMI is: \", calculateBMI(height, weight))\n",
    "\n",
    "\n"
   ]
  },
  {
   "cell_type": "markdown",
   "metadata": {},
   "source": [
    "# Q14"
   ]
  },
  {
   "cell_type": "code",
   "execution_count": 25,
   "metadata": {},
   "outputs": [
    {
     "name": "stdout",
     "output_type": "stream",
     "text": [
      "ENter value of n: 5\n",
      "Sum of n Positive integers till 5 is 15\n"
     ]
    }
   ],
   "source": [
    "# %load sumofN.py\n",
    "#program of sum of n positive number\n",
    "\n",
    "n = int(input(\"ENter value of n: \"))\n",
    "sum = 0\n",
    "\n",
    "for i in range(1, n+1):\n",
    "    sum = sum + i\n",
    "\n",
    "print(\"Sum of n Positive integers till\", n , \"is\", sum)\n"
   ]
  },
  {
   "cell_type": "markdown",
   "metadata": {},
   "source": [
    "# Q15"
   ]
  },
  {
   "cell_type": "code",
   "execution_count": 26,
   "metadata": {},
   "outputs": [
    {
     "name": "stdout",
     "output_type": "stream",
     "text": [
      "Enter a Nmber: 12345\n",
      "The Sum of digits is: 15\n"
     ]
    }
   ],
   "source": [
    "# %load digits.py\n",
    "#program calculate sum of digit in an integer\n",
    "\n",
    "def PrintIntegersum(n):\n",
    "    Sum = 0\n",
    "    while (n != 0):\n",
    "        rem = n %10\n",
    "        Sum = Sum + rem\n",
    "        n //= 10\n",
    "    return Sum\n",
    "#main or driver\n",
    "num = int(input(\"Enter a Nmber: \"))\n",
    "print(\"The Sum of digits is:\",PrintIntegersum(num))\n"
   ]
  },
  {
   "cell_type": "markdown",
   "metadata": {},
   "source": [
    "# Q16"
   ]
  },
  {
   "cell_type": "code",
   "execution_count": 27,
   "metadata": {},
   "outputs": [
    {
     "name": "stdout",
     "output_type": "stream",
     "text": [
      "Enter a decimal number: 6\n",
      "Binary Representation of 6 is 110"
     ]
    }
   ],
   "source": [
    "# %load decimalconvert.py\n",
    "#program to convert decimal number into binary\n",
    "\n",
    "def convertDecitoBinary(n):\n",
    "    if n > 1:\n",
    "        convertDecitoBinary(n//2)\n",
    "    print(n%2,end=\"\")\n",
    "\n",
    "#driver code        \n",
    "num = int(input(\"Enter a decimal number: \"))\n",
    "print(\"Binary Representation of\",num,\"is \",end=\"\")\n",
    "convertDecitoBinary(num)\n",
    "\n",
    "\n"
   ]
  },
  {
   "cell_type": "markdown",
   "metadata": {},
   "source": [
    "# Q17 "
   ]
  },
  {
   "cell_type": "code",
   "execution_count": 28,
   "metadata": {},
   "outputs": [
    {
     "name": "stdout",
     "output_type": "stream",
     "text": [
      "Enter a Binary number: 10110\n",
      "Decimal Representation of 10110 is 22\n"
     ]
    }
   ],
   "source": [
    "# %load binary.py\n",
    "#program to convert binary to decimal\n",
    "\n",
    "def bintoDeci(binary):\n",
    "    deci,i=0,0\n",
    "    while binary!=0:\n",
    "        dec1 = binary % 10\n",
    "        deci = deci + dec1 *pow(2,i)\n",
    "        i = i +1 \n",
    "        binary = binary // 10\n",
    "    print(deci)\n",
    "        \n",
    "binary = int(input(\"Enter a Binary number: \"))\n",
    "print(\"Decimal Representation of\",binary,\"is \",end=\"\")\n",
    "bintoDeci(binary)\n"
   ]
  },
  {
   "cell_type": "markdown",
   "metadata": {},
   "source": [
    "# Q18"
   ]
  },
  {
   "cell_type": "code",
   "execution_count": 1,
   "metadata": {},
   "outputs": [
    {
     "name": "stdout",
     "output_type": "stream",
     "text": [
      "Enter text: how are you\n",
      "Vowel= 5 \n",
      "Consonant= 6\n"
     ]
    }
   ],
   "source": [
    "# %load vowel and consonant.py\n",
    "#program to calculate a vowel and consonant\n",
    "\n",
    "str = input(\"Enter text: \")\n",
    "\n",
    "vowel = 0\n",
    "consonant = 0\n",
    "\n",
    "for x in str:\n",
    "    if x == 'A' or x == 'a' or x == 'A' or x == 'E' or x == 'e' or x == 'o' or x == 'I' or x == 'i' or x == 'U' or x == 'u':\n",
    "        vowel = vowel +1\n",
    "    else:\n",
    "        consonant = consonant + 1\n",
    "\n",
    "print(\"Vowel=\",vowel,\"\\nConsonant=\",consonant)\n"
   ]
  },
  {
   "cell_type": "markdown",
   "metadata": {},
   "source": [
    "\n",
    "# Q19"
   ]
  },
  {
   "cell_type": "code",
   "execution_count": 2,
   "metadata": {},
   "outputs": [
    {
     "name": "stdout",
     "output_type": "stream",
     "text": [
      "Enter text:aha\n",
      "Text aha is palindrome\n"
     ]
    }
   ],
   "source": [
    "# %load palindrome.py\n",
    "#check the palindrome\n",
    "\n",
    "string = input(\"Enter text:\")\n",
    "string1 = ''\n",
    "\n",
    "for i in string:\n",
    "    string1 = i + string1\n",
    "    \n",
    "if(string == string1):\n",
    "    print(\"Text\",string,\"is palindrome\")\n",
    "else:\n",
    "    print(\"Text\",string,\"is not a palindrome\")        \n"
   ]
  },
  {
   "cell_type": "markdown",
   "metadata": {},
   "source": [
    "# Q20"
   ]
  },
  {
   "cell_type": "code",
   "execution_count": 3,
   "metadata": {},
   "outputs": [
    {
     "name": "stdout",
     "output_type": "stream",
     "text": [
      "Enter text: moiz khan@ 123.gmail\n",
      "Numbers= 3 \n",
      "Alphabets= 13 \n",
      "Special Character= 2 \n",
      "Spaces= 2\n"
     ]
    }
   ],
   "source": [
    "# %load calculate digit.py\n",
    "#program to calculate special character, number, digits\n",
    "str = input(\"Enter text: \")\n",
    "\n",
    "digit = 0\n",
    "alpha = 0\n",
    "specialCh = 0\n",
    "space = 0\n",
    "\n",
    "for x in str:\n",
    "    if x.isdigit():\n",
    "        digit = digit +1\n",
    "    elif x.isalpha():\n",
    "        alpha = alpha +1\n",
    "    elif x == ' ':\n",
    "        space = space + 1\n",
    "    else:\n",
    "        specialCh = specialCh + 1\n",
    "\n",
    "print(\"Numbers=\",digit,\"\\nAlphabets=\",alpha,\"\\nSpecial Character=\",specialCh,\"\\nSpaces=\",space)\n",
    "\n"
   ]
  },
  {
   "cell_type": "markdown",
   "metadata": {},
   "source": [
    "# Q21"
   ]
  },
  {
   "cell_type": "code",
   "execution_count": 4,
   "metadata": {},
   "outputs": [
    {
     "name": "stdout",
     "output_type": "stream",
     "text": [
      "* \n",
      "\n",
      "* * \n",
      "\n",
      "* * * \n",
      "\n",
      "* * * * \n",
      "\n",
      "* * * * * \n",
      "\n",
      "* * * * \n",
      "\n",
      "* * * \n",
      "\n",
      "* * \n",
      "\n",
      "* \n",
      "\n"
     ]
    }
   ],
   "source": [
    "# %load stars.py\n",
    "#program to draw a pattern of stars\n",
    "        \n",
    "for i in range(0,5):\n",
    "    for j in range(0,i+1):\n",
    "        print(\"*\",end=\" \")\n",
    "    print(\"\\n\")\n",
    "    \n",
    "for x in range(0,4):\n",
    "    for y in range(x,4):\n",
    "        print(\"*\",end=\" \")\n",
    "    print(\"\\n\")\n"
   ]
  },
  {
   "cell_type": "markdown",
   "metadata": {},
   "source": [
    "# Q22"
   ]
  },
  {
   "cell_type": "code",
   "execution_count": 5,
   "metadata": {},
   "outputs": [
    {
     "name": "stdout",
     "output_type": "stream",
     "text": [
      "1 \n",
      "\n",
      "1 2 \n",
      "\n",
      "1 2 3 \n",
      "\n",
      "1 2 3 4 \n",
      "\n",
      "1 2 3 4 5 \n",
      "\n",
      "1 2 3 4 \n",
      "\n",
      "1 2 3 \n",
      "\n",
      "1 2 \n",
      "\n",
      "1 \n",
      "\n"
     ]
    }
   ],
   "source": [
    "# %load pattern of digits.py\n",
    "for i in range(1,6):\n",
    "    for j in range(1,i+1):\n",
    "        print(j,end=\" \")\n",
    "    print(\"\\n\")\n",
    "\n",
    "for x in range(1,5):\n",
    "    for y in range(1,5-x+1):\n",
    "        print(y,end=\" \")\n",
    "    print(\"\\n\")\n"
   ]
  },
  {
   "cell_type": "markdown",
   "metadata": {},
   "source": [
    "# Q23"
   ]
  },
  {
   "cell_type": "code",
   "execution_count": 6,
   "metadata": {},
   "outputs": [
    {
     "name": "stdout",
     "output_type": "stream",
     "text": [
      "1 \n",
      "\n",
      "2 2 \n",
      "\n",
      "3 3 3 \n",
      "\n",
      "4 4 4 4 \n",
      "\n",
      "5 5 5 5 5 \n",
      "\n",
      "6 6 6 6 6 6 \n",
      "\n",
      "7 7 7 7 7 7 7 \n",
      "\n",
      "8 8 8 8 8 8 8 8 \n",
      "\n",
      "9 9 9 9 9 9 9 9 9 \n",
      "\n"
     ]
    }
   ],
   "source": [
    "# %load pattern of digit122.py\n",
    "#program print pattern of digits\n",
    "\n",
    "def pattern():\n",
    "    for i in range(1,10):\n",
    "        for j in range(1,i+1):\n",
    "            print(i,end=\" \")\n",
    "        print(\"\\n\")\n",
    "\n",
    "pattern()\n"
   ]
  },
  {
   "cell_type": "code",
   "execution_count": null,
   "metadata": {},
   "outputs": [],
   "source": []
  }
 ],
 "metadata": {
  "kernelspec": {
   "display_name": "Python 3",
   "language": "python",
   "name": "python3"
  },
  "language_info": {
   "codemirror_mode": {
    "name": "ipython",
    "version": 3
   },
   "file_extension": ".py",
   "mimetype": "text/x-python",
   "name": "python",
   "nbconvert_exporter": "python",
   "pygments_lexer": "ipython3",
   "version": "3.7.3"
  }
 },
 "nbformat": 4,
 "nbformat_minor": 2
}
